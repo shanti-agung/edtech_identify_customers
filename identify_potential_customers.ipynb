{
 "cells": [
  {
   "cell_type": "markdown",
   "id": "a024d8cd",
   "metadata": {},
   "source": [
    "# About\n",
    "\n",
    "For an EdTech company, randomly approaching universities may not result in satisfying new customers relative to the number of leads (i.e., close/rate ratio). I outlined three approaches using IPEDS data that an EdTech company can consider to improve its close/rate ratio. The term *member* refers to *customer* throughout this notebook."
   ]
  },
  {
   "cell_type": "code",
   "execution_count": null,
   "id": "f1d0f27f",
   "metadata": {},
   "outputs": [],
   "source": [
    "import pandas as pd\n",
    "import membership"
   ]
  },
  {
   "cell_type": "markdown",
   "id": "b2ec59b8",
   "metadata": {},
   "source": [
    "# Preprocess"
   ]
  },
  {
   "cell_type": "code",
   "execution_count": null,
   "id": "5d939da8",
   "metadata": {},
   "outputs": [],
   "source": [
    "# load ids of current members\n",
    "file_name_members = 'members_ipeds_ids.txt'\n",
    "ids_members = membership.gen_ids_members(file_name_members)"
   ]
  },
  {
   "cell_type": "code",
   "execution_count": null,
   "id": "5515113d",
   "metadata": {},
   "outputs": [],
   "source": [
    "# create ids of all universities that meet criteria for the company's membership\n",
    "file_name_ipeds = 'data_ipeds.csv'\n",
    "ids_all = membership.gen_ids_all(file_name_ipeds)"
   ]
  },
  {
   "cell_type": "code",
   "execution_count": null,
   "id": "59e11814",
   "metadata": {},
   "outputs": [],
   "source": [
    "# create ids of non-members\n",
    "ids_non_members = membership.gen_ids_nonmembers(ids_all, ids_members)"
   ]
  },
  {
   "cell_type": "markdown",
   "id": "306f471b",
   "metadata": {},
   "source": [
    "# Current market share"
   ]
  },
  {
   "cell_type": "code",
   "execution_count": null,
   "id": "18981fdc",
   "metadata": {},
   "outputs": [],
   "source": [
    "# compute market share\n",
    "company_market_share = round(membership.compute_market_share(ids_all, ids_members))\n",
    "print(\"The EdTech company's market share is {} percent\".format(company_market_share))"
   ]
  },
  {
   "cell_type": "markdown",
   "id": "bdacf6d4",
   "metadata": {},
   "source": [
    "# Approach 1: Need base identification"
   ]
  },
  {
   "attachments": {},
   "cell_type": "markdown",
   "id": "7eb5bda8",
   "metadata": {},
   "source": [
    "This framework aims to generate a need score for each non-member university and select those with high need scores as potential members. Need scores are generated based on criteria related to the university's needs, such as expanding college access and building a more diverse cohort of students. Upon sorting non-member universities based on their need scores, the company marketing team can decide on the number of potential members as much as the capacity of their sales or customer relation team allows.\n",
    "\n",
    "I used three needs criteria in this notebook: access expansion, student diversity, and streamlining the admission process. The metric for expanding access was whether the university offers distance education. Two metrics were implemented to capture the needs for student diversity: diversity of gender and diversity of race of undergraduate students enrolled at the university. The metric indicating the need for streamlining the admission process was the number of undergraduate students enrolled. Ideally, we would use the number of undergraduate applications received by the university rather than the number of students enrolled. The more applications that a university admission department works with, the more likely it is to need a software system that helps them streamline the admission process. A list of 100 non-members with the highest need scores was generated in the sample code. The marketing team can customize the number of non-members in the list based on the sales team's capacity.\n",
    "\n",
    "This prototype can be extended in at least three ways. Firstly, one can add criteria as well as metrics. For example, one can include the number of university programs, the diversity of financial aids, and trend-related metrics. Secondly, my sample code uses equal weighting for each metric. An extension could be an interactive dashboard in which the EdTech company’s marketing team can enter different weights based on their knowledge of the current state of the education industry. Thirdly, related to the interactivity noted earlier, a dashboard where the marketing team can pick and choose criteria and metrics for generating need scores could be useful. For example, the marketing team may use a different set of diversity metrics for universities that only accept one gender (i.e., women's colleges). The gender diversity metric for these universities would naturally be zero."
   ]
  },
  {
   "cell_type": "code",
   "execution_count": null,
   "id": "aafeb0a6",
   "metadata": {},
   "outputs": [],
   "source": [
    "# subset ipeds data for non-members\n",
    "\n",
    "var_list = [\n",
    "    'UnitID','Institution Name',\n",
    "    'City location of institution (HD2020)',\n",
    "     'State abbreviation (HD2020)',\n",
    "     'ZIP code (HD2020)',\n",
    "    'Undergraduate level programs or courses are offered via distance education (IC2020)',\n",
    "    'Percent of full-time first-time undergraduates awarded any financial aid (SFA1920)',\n",
    "    'Total men (EF2020  All students  Undergraduate total)',\n",
    "    'Total women (EF2020  All students  Undergraduate total)',\n",
    "    'American Indian or Alaska Native total (EF2020A  All students  Undergraduate total)',\n",
    "    'Asian total (EF2020A  All students  Undergraduate total)',\n",
    "    'Black or African American total (EF2020A  All students  Undergraduate total)',\n",
    "    'Hispanic total (EF2020A  All students  Undergraduate total)',\n",
    "    'Native Hawaiian or Other Pacific Islander total (EF2020A  All students  Undergraduate total)',\n",
    "    'White total (EF2020A  All students  Undergraduate total)',\n",
    "    'Grand total (EF2020  All students  Undergraduate total)'\n",
    "]\n",
    "\n",
    "subset_df = membership.subset(file_name_ipeds, ids_non_members, var_list)"
   ]
  },
  {
   "cell_type": "markdown",
   "id": "70fefc5a",
   "metadata": {},
   "source": [
    "### Create diversity metrics"
   ]
  },
  {
   "cell_type": "code",
   "execution_count": null,
   "id": "65ac23d5",
   "metadata": {},
   "outputs": [],
   "source": [
    "# create diversity metrics: gender\n",
    "col_dict_gender = {\n",
    "    'Total men (EF2020  All students  Undergraduate total)': 'p_men',\n",
    "    'Total women (EF2020  All students  Undergraduate total)' : 'p_women'\n",
    "}\n",
    "\n",
    "prop_list_gender = list(col_dict_gender.values())\n",
    "\n",
    "subset_df = membership.gen_proportions(subset_df, col_dict_gender)\n",
    "subset_df['diversity_gender'] = membership.gen_blau_index(subset_df, prop_list_gender)"
   ]
  },
  {
   "cell_type": "code",
   "execution_count": null,
   "id": "9c596c2d",
   "metadata": {},
   "outputs": [],
   "source": [
    "# create diversity metrics: race\n",
    "col_dict_race = {\n",
    "    'American Indian or Alaska Native total (EF2020A  All students  Undergraduate total)': 'p_native_american',\n",
    "    'Asian total (EF2020A  All students  Undergraduate total)' : 'p_asian',\n",
    "    'Black or African American total (EF2020A  All students  Undergraduate total)': 'p_black',\n",
    "    'Hispanic total (EF2020A  All students  Undergraduate total)': 'p_hispanic',\n",
    "    'Native Hawaiian or Other Pacific Islander total (EF2020A  All students  Undergraduate total)':'p_hawaiian_pacific',\n",
    "    'White total (EF2020A  All students  Undergraduate total)': 'p_white'\n",
    "}\n",
    "\n",
    "prop_list_race = list(col_dict_race.values())\n",
    "\n",
    "subset_df = membership.gen_proportions(subset_df, col_dict_race)\n",
    "subset_df['diversity_race'] = membership.gen_blau_index(subset_df, prop_list_race)"
   ]
  },
  {
   "cell_type": "markdown",
   "id": "bd473f0e",
   "metadata": {},
   "source": [
    "### Calculate need scores"
   ]
  },
  {
   "cell_type": "code",
   "execution_count": null,
   "id": "56d79c70",
   "metadata": {},
   "outputs": [],
   "source": [
    "# a dictionary of variable to standardized\n",
    "standardized_dict = {\n",
    "    'diversity_gender' : 'scaled_diversity_gender',\n",
    "    'diversity_race' : 'scaled_diversity_race',\n",
    "    'Percent of full-time first-time undergraduates awarded any financial aid (SFA1920)' : 'scaled_financial_aid',\n",
    "    'Undergraduate level programs or courses are offered via distance education (IC2020)' : 'scaled_distance_educ',\n",
    "    'Grand total (EF2020  All students  Undergraduate total)' : 'scaled_total_ug'\n",
    "}\n",
    "\n",
    "# a list of variables which signs will be flipped (see membership.py for details)\n",
    "vars_flipped = ['scaled_diversity_gender', 'scaled_diversity_race']"
   ]
  },
  {
   "cell_type": "code",
   "execution_count": null,
   "id": "86b80a73",
   "metadata": {},
   "outputs": [],
   "source": [
    "# calculate need score\n",
    "subset_df = membership.compute_need_scores(subset_df, standardized_dict, vars_flipped)"
   ]
  },
  {
   "cell_type": "code",
   "execution_count": null,
   "id": "f5b1337d",
   "metadata": {},
   "outputs": [],
   "source": [
    "# keep only relevant variables\n",
    "vars_to_keep = [\n",
    "    'UnitID','Institution Name',\n",
    "    'City location of institution (HD2020)',\n",
    "     'State abbreviation (HD2020)',\n",
    "    'need_score'\n",
    "]\n",
    "\n",
    "need_scores_df = subset_df[vars_to_keep]"
   ]
  },
  {
   "cell_type": "markdown",
   "id": "00eecd9e",
   "metadata": {},
   "source": [
    "### Identify potential members\n",
    "In this approach, the more fitting non-members are those with higher need scores."
   ]
  },
  {
   "cell_type": "code",
   "execution_count": null,
   "id": "2ea72f19",
   "metadata": {},
   "outputs": [],
   "source": [
    "# select top n universities with highest need scores\n",
    "n = 100\n",
    "potential_members = need_scores_df.sort_values('need_score', ascending=False).head(n)"
   ]
  },
  {
   "cell_type": "code",
   "execution_count": null,
   "id": "03a28a2e",
   "metadata": {},
   "outputs": [],
   "source": [
    "# the first 10 universities in the list of potential members\n",
    "potential_members.head(10)"
   ]
  },
  {
   "cell_type": "code",
   "execution_count": null,
   "id": "a1930168",
   "metadata": {},
   "outputs": [],
   "source": [
    "# to export to a csv file uncomment and run the line below\n",
    "#potential_members.to_csv('potential_members_need_scores.csv', encoding='utf-8', index = False)"
   ]
  },
  {
   "cell_type": "markdown",
   "id": "8807b313",
   "metadata": {},
   "source": [
    "# Approach 2: Level of market penetration"
   ]
  },
  {
   "attachments": {},
   "cell_type": "markdown",
   "id": "9e7de60b",
   "metadata": {},
   "source": [
    "The idea underlying this framework is to generate a market penetration score – that is, the number of member universities to the number of total universities in the area – and select non-member universities in regions that are low in market penetration. Then, after sorting regions based on the market penetration score, the EdTech company’s marketing team can choose the number of potential members according to the capacity of their sales team in regions that the EdTech company has a low level of market penetration. \n",
    "\n",
    "I used a state to define a region in this notebook. Using this approach, we can see states where the company has low or no market presence. A possible extension of this sample code is choosing a different unit area, for example, city or county."
   ]
  },
  {
   "cell_type": "code",
   "execution_count": null,
   "id": "46453fa4",
   "metadata": {},
   "outputs": [],
   "source": [
    "# subset ipeds data for all qualifying universities\n",
    "var_list = ['UnitID', 'Institution Name',\n",
    "            'City location of institution (HD2020)',\n",
    "            'State abbreviation (HD2020)']\n",
    "\n",
    "subset_df = membership.subset(file_name_ipeds, ids_all, var_list)"
   ]
  },
  {
   "cell_type": "code",
   "execution_count": null,
   "id": "d0f4eadf",
   "metadata": {},
   "outputs": [],
   "source": [
    "# create a data frame of membership status\n",
    "ids_status = membership.tag_membership(ids_all, ids_members)"
   ]
  },
  {
   "cell_type": "code",
   "execution_count": null,
   "id": "47000a65",
   "metadata": {},
   "outputs": [],
   "source": [
    "# merge and rename\n",
    "subset_df = subset_df.merge(ids_status, on='UnitID', how='inner')\n",
    "\n",
    "subset_df = subset_df.rename(columns={'City location of institution (HD2020)':'city',\n",
    "                                       'State abbreviation (HD2020)' : 'state'})"
   ]
  },
  {
   "cell_type": "code",
   "execution_count": null,
   "id": "cc691d49",
   "metadata": {},
   "outputs": [],
   "source": [
    "# preprocess variables\n",
    "market_df= subset_df.groupby(['state','membership_status'], as_index = False).agg({'UnitID':'count'}).sort_values(\n",
    "by = 'state')\n",
    "market_df = market_df.pivot_table('UnitID', index='state', columns='membership_status', fill_value=0, aggfunc='sum')\n",
    "market_df = market_df.reset_index()\n",
    "market_df.columns.names = ['']"
   ]
  },
  {
   "cell_type": "code",
   "execution_count": null,
   "id": "e4ee514f",
   "metadata": {},
   "outputs": [],
   "source": [
    "# calculate market penetration score\n",
    "market_df['total'] = market_df['member'] + market_df['non_member']\n",
    "market_df['market_penetration_score'] = market_df['member']/market_df['total']"
   ]
  },
  {
   "cell_type": "code",
   "execution_count": null,
   "id": "d7811132",
   "metadata": {},
   "outputs": [],
   "source": [
    "# sort by market penetration score from lowest to highest\n",
    "market_df = market_df.sort_values(by='market_penetration_score')"
   ]
  },
  {
   "cell_type": "code",
   "execution_count": null,
   "id": "3b803487",
   "metadata": {},
   "outputs": [],
   "source": [
    "# the first 15 states with lowest market penetration score\n",
    "market_df.head(15)"
   ]
  },
  {
   "cell_type": "code",
   "execution_count": null,
   "id": "e3b165db",
   "metadata": {},
   "outputs": [],
   "source": [
    "# to export to a csv file uncomment and run the line below\n",
    "#market_df.to_csv('market_penetration_scores_by_states.csv', encoding='utf-8', index = False)"
   ]
  },
  {
   "attachments": {},
   "cell_type": "markdown",
   "id": "06e46e48",
   "metadata": {},
   "source": [
    "# Approach 3: Leverage the characteristics of current members\n",
    "\n",
    "The idea in this framework is that characteristics of current members are projected to identify potential members. Thus, potential members are likely to have similar characteristics as current members."
   ]
  },
  {
   "cell_type": "code",
   "execution_count": null,
   "id": "d264e915",
   "metadata": {},
   "outputs": [],
   "source": []
  }
 ],
 "metadata": {
  "kernelspec": {
   "display_name": "commapp-env",
   "language": "python",
   "name": "commapp-env"
  },
  "language_info": {
   "codemirror_mode": {
    "name": "ipython",
    "version": 3
   },
   "file_extension": ".py",
   "mimetype": "text/x-python",
   "name": "python",
   "nbconvert_exporter": "python",
   "pygments_lexer": "ipython3",
   "version": "3.8.2"
  }
 },
 "nbformat": 4,
 "nbformat_minor": 5
}
